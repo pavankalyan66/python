{
 "cells": [
  {
   "cell_type": "code",
   "execution_count": 40,
   "metadata": {},
   "outputs": [],
   "source": [
    "#list\n",
    "#list is python built-in data structure\n",
    "#it has so many built-in methods to make our work easy\n",
    "#In Python programming, a list is created by placing all the items (elements) inside a square bracket [ ], \n",
    "#separated by commas.\n",
    "#list is orderd and changable and allows duplicates\n",
    "\n",
    "\n",
    "#built-in methods for list\n",
    "#list_name.append(element)\n",
    "#list_name.extend(list)\n",
    "#list_name.insert(location,element)\n",
    "#list_name.pop()  without parameter last element and with parameter perticular index\n",
    "#list_name.remove(item)   \n",
    "#list_name.sort()\n",
    "#list_name.reverse()\n",
    "#list_name.copy()\n",
    "#list_name.index(item)  returns the index value of first occuring element\n",
    "# del list_name[] perticular element or range of elements\n",
    "#\n",
    "#"
   ]
  },
  {
   "cell_type": "code",
   "execution_count": 41,
   "metadata": {},
   "outputs": [
    {
     "name": "stdout",
     "output_type": "stream",
     "text": [
      "[]\n",
      "[1, 2, 3, 4, 5, 6, 7, 8, 9]\n",
      "['append', 'pop', 'remove', 'sort', 'sorted', 'extra...']\n",
      "['pavan', 64, 'balaji', 75]\n",
      "[[1, 2, 3, 4, 5], [11, 22, 33, 44, 55]]\n"
     ]
    }
   ],
   "source": [
    "#this is how we can create a list \n",
    "name = []  #empty list\n",
    "print(name)\n",
    "numbers = [1,2,3,4,5,6,7,8,9] #list of numbers\n",
    "print(numbers)\n",
    "function = ['append','pop','remove','sort','sorted','extra...'] #list of strings\n",
    "print(function)\n",
    "nameWithWeight = ['pavan',64,'balaji',75] # we can store different data types in list\n",
    "print(nameWithWeight)\n",
    "marks = [[1,2,3,4,5],[11,22,33,44,55]] #this is list inside list called nested list\n",
    "print(marks)"
   ]
  },
  {
   "cell_type": "code",
   "execution_count": 42,
   "metadata": {},
   "outputs": [
    {
     "name": "stdout",
     "output_type": "stream",
     "text": [
      "1\n",
      "2\n",
      "[1, 2, 3, 4, 5]\n"
     ]
    }
   ],
   "source": [
    "#accessing elements in list\n",
    "# we have so many ways to accessing elements one of this is index operator []\n",
    "#with help of index operator [] we can access elements in list and with their index numbers starts from 0\n",
    "print(numbers[0]) #it is what is the first value in list of numbers\n",
    "print(numbers[1]) # it is what is the second value in list of numbers\n",
    "print(marks[0]) # this is nested list so 0 index position has a list"
   ]
  },
  {
   "cell_type": "code",
   "execution_count": 43,
   "metadata": {},
   "outputs": [
    {
     "name": "stdout",
     "output_type": "stream",
     "text": [
      "9\n",
      "7\n"
     ]
    }
   ],
   "source": [
    "#list also access to negative indexing\n",
    "#-1 access last element and -2 access second last element\n",
    "print(numbers[-1])\n",
    "#print(numbers[-4]) # if we use index more than length of list it will raise index out of range error\n",
    "print(numbers[-3])"
   ]
  },
  {
   "cell_type": "code",
   "execution_count": 44,
   "metadata": {},
   "outputs": [
    {
     "name": "stdout",
     "output_type": "stream",
     "text": [
      "[1, 2, 3, 4, 5, 6, 7, 8, 9]\n",
      "[2, 3, 4, 5]\n"
     ]
    }
   ],
   "source": [
    "#how to slice a part of list \n",
    "#We can access a range of items in a list by using the slicing operator (colon).\n",
    "print(numbers[0:])\n",
    "print(numbers[1:5])# first integer is included and second parameter is excluded it means it prints from 1 to 4 index values"
   ]
  },
  {
   "cell_type": "code",
   "execution_count": 45,
   "metadata": {},
   "outputs": [
    {
     "name": "stdout",
     "output_type": "stream",
     "text": [
      "[1, 2, 3, 4, 5, 6, 7, 8, 9]\n",
      "[100, 2, 3, 4, 5, 6, 7, 8, 9]\n",
      "[1, 2, 3, 4, 5, 6, 7, 8, 9]\n",
      "[222, 333, 3, 4, 5, 6, 7, 8, 9]\n",
      "[1, 2, 3, 4, 5, 6, 7, 8, 9]\n",
      "[1, 2, 3, 4, 5, 6, 7, 8, 9, 10]\n",
      "[1, 2, 3, 4, 5, 6, 7, 8, 9, 10, 11, 12, 13, 14, 15]\n"
     ]
    }
   ],
   "source": [
    "#adding elements to list\n",
    "#list are mutable so we can add and change elements one or a range of elements using equal = operator\n",
    "print(numbers)\n",
    "numbers[0] =100\n",
    "print(numbers) # changing index 0 value to 100\n",
    "numbers[0] =1\n",
    "print(numbers)\n",
    "numbers[0:2] = [222,333] # we can change a range of values\n",
    "print(numbers)\n",
    "numbers[0:2] = [1,2]\n",
    "print(numbers)\n",
    "\n",
    "\n",
    "# we have to built-in methods in list like append() it is added a element at the end of the list\n",
    "#syntax  list_name.append(value)\n",
    "numbers.append(10)\n",
    "print(numbers) #adding element at the end of the list\n",
    "# we have extend function to add two list or concatenate two lists\n",
    "numbers.extend([11,12,13,14,15]) # extend the list \n",
    "print(numbers)\n",
    "\n",
    "# we have insert() function in list to insert a element in whatever location we want\n",
    "#syntax list_name.insert(location,value)"
   ]
  },
  {
   "cell_type": "code",
   "execution_count": 46,
   "metadata": {},
   "outputs": [
    {
     "name": "stdout",
     "output_type": "stream",
     "text": [
      "[1, 2, 3, 4, 5, 6, 7, 8, 9, 10]\n"
     ]
    }
   ],
   "source": [
    "# how delete or remove elements from list\n",
    "# we have so many ways to remove element from list\n",
    "# del syntax del list_name deletes entire list\n",
    "# del list_name[index] deletes perticular element at that postion\n",
    "#del list_name[:] a range of values\n",
    "del numbers[10:]\n",
    "print(numbers) # deleted last five elements\n",
    "\n",
    "# we have three more built-in methods they are \n",
    "# remove()  deletes element with given item value\n",
    "#pop() with empty parameter removes last element with parameter removes perticular index element \n",
    "# clear() it is clears the all elements in list"
   ]
  },
  {
   "cell_type": "code",
   "execution_count": 48,
   "metadata": {},
   "outputs": [
    {
     "name": "stdout",
     "output_type": "stream",
     "text": [
      "append\n",
      "pop\n",
      "remove\n",
      "sort\n",
      "sorted\n",
      "extra...\n"
     ]
    }
   ],
   "source": [
    "# we have some additional built-in methods like\n",
    "# sort() and reverse() and copy() and count\n",
    "\n",
    "#finally we can iterate through the list\n",
    "for i in function:\n",
    "    print(i)"
   ]
  },
  {
   "cell_type": "code",
   "execution_count": null,
   "metadata": {},
   "outputs": [],
   "source": []
  }
 ],
 "metadata": {
  "kernelspec": {
   "display_name": "Python 3",
   "language": "python",
   "name": "python3"
  },
  "language_info": {
   "codemirror_mode": {
    "name": "ipython",
    "version": 3
   },
   "file_extension": ".py",
   "mimetype": "text/x-python",
   "name": "python",
   "nbconvert_exporter": "python",
   "pygments_lexer": "ipython3",
   "version": "3.7.3"
  }
 },
 "nbformat": 4,
 "nbformat_minor": 2
}
