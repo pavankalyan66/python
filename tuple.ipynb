{
 "cells": [
  {
   "cell_type": "code",
   "execution_count": null,
   "metadata": {},
   "outputs": [],
   "source": [
    "# tuples are similar to the list but the only difference is list are mutable and tuples are unmutable\n",
    "# once we created a tuple we can't change it\n",
    "# we can create a tuple with () parantheses\n",
    "# we can create tuple without parantheses called tuple packing\n",
    "# tuple are immutable so we don't have many built-in methods\n",
    "# we have two built-in methods\n",
    "# count()  and index()"
   ]
  },
  {
   "cell_type": "code",
   "execution_count": 1,
   "metadata": {},
   "outputs": [
    {
     "name": "stdout",
     "output_type": "stream",
     "text": [
      "('tuples', 'are', 'unmutable')\n"
     ]
    }
   ],
   "source": [
    "names = ('tuples','are','unmutable')   #tuples are unmutable we can't change them ones created\n",
    "print(names)"
   ]
  },
  {
   "cell_type": "code",
   "execution_count": 9,
   "metadata": {},
   "outputs": [
    {
     "name": "stdout",
     "output_type": "stream",
     "text": [
      "('india', 'america', 'russia', 'china')\n",
      "india\n",
      "england\n",
      "<class 'str'>\n",
      "('england',)\n",
      "<class 'tuple'>\n"
     ]
    }
   ],
   "source": [
    "#a tuple can be created without using parantheses using tuple packing\n",
    "countries = \"india\",\"america\",\"russia\",\"china\"      # this is tuple packing\n",
    "print(countries)\n",
    "# we have tuple unpacking reverse of tuple packing\n",
    "india,america,russia,china = countries\n",
    "print(india)\n",
    "#it unpacks the tuple and stores the values in different variables\n",
    "# creating with tuple with one element it bit tricky it needs be tailing a comma\n",
    "#oterwise it is considering as a normal data type not tuple\n",
    "\n",
    "ports = ('england')\n",
    "print(ports)\n",
    "print(type(ports))\n",
    "# we need to add comma at the end\n",
    "ports = ('england',)\n",
    "print(ports)\n",
    "print(type(ports))"
   ]
  },
  {
   "cell_type": "code",
   "execution_count": 12,
   "metadata": {},
   "outputs": [
    {
     "name": "stdout",
     "output_type": "stream",
     "text": [
      "england\n",
      "('england',)\n",
      "('ram', [10, 20, 30, 40, 50, 60, 100])\n",
      "('ram', [10, 20, 30, 40, 50, 60, 'unlimited'])\n"
     ]
    }
   ],
   "source": [
    "#We can use the index operator [] to access an item in a tuple where the index starts from 0.\n",
    "#So, a tuple having 6 elements will have indices from 0 to 5. \n",
    "#Trying to access an element outside of tuple (for example, 6, 7,...) will raise an IndexError.\n",
    "#The index must be an integer; so we cannot use float or other types. This will result in TypeError.\n",
    "print(ports[0])\n",
    "print(ports[0:])\n",
    "\n",
    "#Likewise, nested tuples are accessed using nested indexing, as shown in the example below.\n",
    "# nested tuple and nested list we can contain a tuple of list \n",
    "#normally we can't change a tuple and we can change a nested list in a tuple because that is list\n",
    "namesWithMarks = ('ram',[10,20,30,40,50,60,100])\n",
    "print(namesWithMarks)\n",
    "namesWithMarks[1][6] = 'unlimited'\n",
    "print(namesWithMarks)             "
   ]
  },
  {
   "cell_type": "code",
   "execution_count": 14,
   "metadata": {},
   "outputs": [
    {
     "name": "stdout",
     "output_type": "stream",
     "text": [
      "china\n"
     ]
    }
   ],
   "source": [
    "# nagative indexing with tuple\n",
    "print(countries[-1])"
   ]
  },
  {
   "cell_type": "code",
   "execution_count": 16,
   "metadata": {},
   "outputs": [
    {
     "name": "stdout",
     "output_type": "stream",
     "text": [
      "('india', 'america', 'russia', 'china')\n",
      "('america', 'russia', 'china')\n",
      "('india', 'america', 'russia', 'china')\n"
     ]
    }
   ],
   "source": [
    "#slicing the tuple works same as list\n",
    "print(countries[0:])\n",
    "print(countries[1:4])\n",
    "print(countries[:])"
   ]
  },
  {
   "cell_type": "code",
   "execution_count": 17,
   "metadata": {},
   "outputs": [],
   "source": [
    "#This means that elements of a tuple cannot be changed once it has been assigned. \n",
    "#But, if the element is itself a mutable datatype like list,\n",
    "#its nested items can be changed.\n",
    "birdsWeight=('parrot',[1.5,2.8,5.3]) \n",
    "# normally we can't change tuple but if the tuple contains mutable datatype like list we can change the tuple"
   ]
  },
  {
   "cell_type": "code",
   "execution_count": 18,
   "metadata": {},
   "outputs": [
    {
     "name": "stdout",
     "output_type": "stream",
     "text": [
      "('parrot', [1.5, 2.8, 5.3])\n"
     ]
    },
    {
     "ename": "NameError",
     "evalue": "name 'birdsWeight' is not defined",
     "output_type": "error",
     "traceback": [
      "\u001b[1;31m---------------------------------------------------------------------------\u001b[0m",
      "\u001b[1;31mNameError\u001b[0m                                 Traceback (most recent call last)",
      "\u001b[1;32m<ipython-input-18-6737c19b8e88>\u001b[0m in \u001b[0;36m<module>\u001b[1;34m\u001b[0m\n\u001b[0;32m      2\u001b[0m \u001b[0mprint\u001b[0m\u001b[1;33m(\u001b[0m\u001b[0mbirdsWeight\u001b[0m\u001b[1;33m)\u001b[0m\u001b[1;33m\u001b[0m\u001b[1;33m\u001b[0m\u001b[0m\n\u001b[0;32m      3\u001b[0m \u001b[1;32mdel\u001b[0m \u001b[0mbirdsWeight\u001b[0m\u001b[1;33m\u001b[0m\u001b[1;33m\u001b[0m\u001b[0m\n\u001b[1;32m----> 4\u001b[1;33m \u001b[0mprint\u001b[0m\u001b[1;33m(\u001b[0m\u001b[0mbirdsWeight\u001b[0m\u001b[1;33m)\u001b[0m \u001b[1;31m# we just deleted the tuple with help of del statement\u001b[0m\u001b[1;33m\u001b[0m\u001b[1;33m\u001b[0m\u001b[0m\n\u001b[0m",
      "\u001b[1;31mNameError\u001b[0m: name 'birdsWeight' is not defined"
     ]
    }
   ],
   "source": [
    "#deleting the tuple with del statement\n",
    "print(birdsWeight)\n",
    "del birdsWeight\n",
    "print(birdsWeight) # we just deleted the tuple with help of del statement\n",
    "           # error accured here name not defined error"
   ]
  },
  {
   "cell_type": "code",
   "execution_count": 23,
   "metadata": {},
   "outputs": [
    {
     "name": "stdout",
     "output_type": "stream",
     "text": [
      "1\n",
      "1\n"
     ]
    }
   ],
   "source": [
    "#count methods will useful to find how many times that specific element repeated\n",
    "print(countries.count('india'))\n",
    "# it returns 1 because india occured only ones in tuple\n",
    "#index funtion returns the index of perticular element\n",
    "print(countries.index('america'))   #the index value of america is 1"
   ]
  },
  {
   "cell_type": "code",
   "execution_count": null,
   "metadata": {},
   "outputs": [],
   "source": []
  }
 ],
 "metadata": {
  "kernelspec": {
   "display_name": "Python 3",
   "language": "python",
   "name": "python3"
  },
  "language_info": {
   "codemirror_mode": {
    "name": "ipython",
    "version": 3
   },
   "file_extension": ".py",
   "mimetype": "text/x-python",
   "name": "python",
   "nbconvert_exporter": "python",
   "pygments_lexer": "ipython3",
   "version": "3.7.3"
  }
 },
 "nbformat": 4,
 "nbformat_minor": 2
}
