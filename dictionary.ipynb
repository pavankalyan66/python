{
 "cells": [
  {
   "cell_type": "code",
   "execution_count": 1,
   "metadata": {},
   "outputs": [],
   "source": [
    "#dictionary\n",
    "# Python dictionary is an unordered collection of items. \n",
    "# While other compound data types have only value as an element, a dictionary has a key: value pair.\n",
    "# Dictionaries are optimized to retrieve values when the key is known.\n",
    "\n",
    "# Creating a dictionary is as simple as placing items inside curly braces {} separated by comma.\n",
    "# An item has a key and the corresponding value expressed as a pair, key: value.\n",
    "# While values can be of any data type and can repeat, keys must be of immutable type \n",
    "# (string, number or tuple with immutable elements) and must be unique."
   ]
  },
  {
   "cell_type": "code",
   "execution_count": 20,
   "metadata": {},
   "outputs": [
    {
     "name": "stdout",
     "output_type": "stream",
     "text": [
      "['append', 'extend', 'insert', 'remove', 'pop', 'clear']\n",
      "['count', 'index']\n"
     ]
    }
   ],
   "source": [
    "#simple dictionary\n",
    "dataStructuresAndMethods = {'list':['append','extend','insert','remove','pop','clear'],'tuple':['count','index'],'set':['add','update']}\n",
    "print(dataStructuresAndMethods['list'])\n",
    "print(dataStructuresAndMethods['tuple'])"
   ]
  },
  {
   "cell_type": "code",
   "execution_count": 21,
   "metadata": {},
   "outputs": [
    {
     "name": "stdout",
     "output_type": "stream",
     "text": [
      "['add', 'update']\n"
     ]
    }
   ],
   "source": [
    "#accessing dictionary\n",
    "# we have to ways using get() or with [] operator\n",
    "print(dataStructuresAndMethods.get('set'))"
   ]
  },
  {
   "cell_type": "code",
   "execution_count": 22,
   "metadata": {},
   "outputs": [
    {
     "name": "stdout",
     "output_type": "stream",
     "text": [
      "{'list': ['append', 'extend', 'insert', 'remove', 'pop', 'clear'], 'tuple': ['count', 'index'], 'set': ['add', 'update']}\n",
      "{'tuple': ['count', 'index'], 'set': ['add', 'update']}\n",
      "{'tuple': ['count', 'index']}\n"
     ]
    }
   ],
   "source": [
    "# for remove elements we have to methods \n",
    "# pop() and popitem()\n",
    "#pop removes perticular index and pop item removes last item\n",
    "print(dataStructuresAndMethods)\n",
    "dataStructuresAndMethods.pop('list')\n",
    "print(dataStructuresAndMethods)\n",
    "dataStructuresAndMethods.popitem()\n",
    "print(dataStructuresAndMethods)"
   ]
  },
  {
   "cell_type": "code",
   "execution_count": 23,
   "metadata": {},
   "outputs": [
    {
     "name": "stdout",
     "output_type": "stream",
     "text": [
      "dict_keys(['tuple', 'list'])\n",
      "dict_values([['count', 'index'], ['append', 'extend', 'insert', 'remove', 'pop', 'clear']])\n",
      "dict_items([('tuple', ['count', 'index']), ('list', ['append', 'extend', 'insert', 'remove', 'pop', 'clear'])])\n",
      "dict_keys(['tuple', 'list'])\n"
     ]
    }
   ],
   "source": [
    "# we are adding key value pair to diciionary\n",
    "dataStructuresAndMethods['list'] = ['append', 'extend', 'insert', 'remove', 'pop', 'clear']\n",
    "\n",
    "# we have functions like keys() values() nad item() and \n",
    "print(dataStructuresAndMethods.keys())    # prints the keys\n",
    "print(dataStructuresAndMethods.values()) # prints values accroding to keys\n",
    "print(dataStructuresAndMethods.items())   #print key wiht vlaue\n",
    "keys = dataStructuresAndMethods.keys()\n",
    "print(keys)"
   ]
  },
  {
   "cell_type": "code",
   "execution_count": 24,
   "metadata": {},
   "outputs": [
    {
     "name": "stdout",
     "output_type": "stream",
     "text": [
      "tuple ['count', 'index']\n",
      "list ['append', 'extend', 'insert', 'remove', 'pop', 'clear']\n"
     ]
    }
   ],
   "source": [
    "#iterating a dictonary\n",
    "\n",
    "for x,y in dataStructuresAndMethods.items():\n",
    "    print(x,y)"
   ]
  },
  {
   "cell_type": "code",
   "execution_count": null,
   "metadata": {},
   "outputs": [],
   "source": []
  }
 ],
 "metadata": {
  "kernelspec": {
   "display_name": "Python 3",
   "language": "python",
   "name": "python3"
  },
  "language_info": {
   "codemirror_mode": {
    "name": "ipython",
    "version": 3
   },
   "file_extension": ".py",
   "mimetype": "text/x-python",
   "name": "python",
   "nbconvert_exporter": "python",
   "pygments_lexer": "ipython3",
   "version": "3.7.3"
  }
 },
 "nbformat": 4,
 "nbformat_minor": 2
}
