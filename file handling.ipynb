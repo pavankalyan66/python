{
 "cells": [
  {
   "cell_type": "code",
   "execution_count": 145,
   "metadata": {},
   "outputs": [],
   "source": [
    "#file hadling\n",
    "# we are going to learn about how to read and write and close files\n",
    "f = open('test2.txt','w')\n",
    "f.write('welcome to house')\n",
    "f.close()\n"
   ]
  },
  {
   "cell_type": "code",
   "execution_count": 146,
   "metadata": {},
   "outputs": [
    {
     "data": {
      "text/plain": [
       "'welcome to house'"
      ]
     },
     "execution_count": 146,
     "metadata": {},
     "output_type": "execute_result"
    }
   ],
   "source": [
    "f=open('test2.txt','r')\n",
    "f.read()"
   ]
  },
  {
   "cell_type": "code",
   "execution_count": 147,
   "metadata": {},
   "outputs": [],
   "source": [
    "f.close()"
   ]
  },
  {
   "cell_type": "code",
   "execution_count": 148,
   "metadata": {},
   "outputs": [],
   "source": [
    "f=open('test2.txt','a')\n",
    "f.write('i am adding new line \\n and welcome to the  \\n world and do something\\\\n')\n",
    "f.close()"
   ]
  },
  {
   "cell_type": "code",
   "execution_count": 153,
   "metadata": {},
   "outputs": [
    {
     "name": "stdout",
     "output_type": "stream",
     "text": [
      "welcome to housei am adding new line \n",
      " and welcome to the  \n",
      " world and do something\\n\n"
     ]
    }
   ],
   "source": [
    "f=open('test2.txt','r')\n",
    "print(f.read())\n",
    "f.close()"
   ]
  },
  {
   "cell_type": "code",
   "execution_count": 175,
   "metadata": {},
   "outputs": [
    {
     "ename": "FileNotFoundError",
     "evalue": "[Errno 2] No such file or directory: 'test10.txt'",
     "output_type": "error",
     "traceback": [
      "\u001b[1;31m---------------------------------------------------------------------------\u001b[0m",
      "\u001b[1;31mFileNotFoundError\u001b[0m                         Traceback (most recent call last)",
      "\u001b[1;32m<ipython-input-175-bb16ad93dc72>\u001b[0m in \u001b[0;36m<module>\u001b[1;34m\u001b[0m\n\u001b[1;32m----> 1\u001b[1;33m \u001b[1;32mwith\u001b[0m \u001b[0mopen\u001b[0m\u001b[1;33m(\u001b[0m\u001b[1;34m'test10.txt'\u001b[0m\u001b[1;33m)\u001b[0m \u001b[1;32mas\u001b[0m \u001b[0mfile10\u001b[0m\u001b[1;33m:\u001b[0m\u001b[1;33m\u001b[0m\u001b[1;33m\u001b[0m\u001b[0m\n\u001b[0m\u001b[0;32m      2\u001b[0m     \u001b[0mprint\u001b[0m\u001b[1;33m(\u001b[0m\u001b[0mfile10\u001b[0m\u001b[1;33m.\u001b[0m\u001b[0mread\u001b[0m\u001b[1;33m(\u001b[0m\u001b[1;33m)\u001b[0m\u001b[1;33m)\u001b[0m\u001b[1;33m\u001b[0m\u001b[1;33m\u001b[0m\u001b[0m\n",
      "\u001b[1;31mFileNotFoundError\u001b[0m: [Errno 2] No such file or directory: 'test10.txt'"
     ]
    }
   ],
   "source": [
    "if we want to read a file and it is not exist in \n",
    "with open('test10.txt') as file10:\n",
    "    print(file10.read())"
   ]
  },
  {
   "cell_type": "code",
   "execution_count": 160,
   "metadata": {},
   "outputs": [
    {
     "name": "stdout",
     "output_type": "stream",
     "text": [
      "welcome to\n",
      "10\n",
      "5\n",
      "me to housei am adding new line \n",
      " and welcome to the  \n",
      " world and do something\\n\n"
     ]
    }
   ],
   "source": [
    "# we can open a file with one more way is with statement\n",
    "with open('test2.txt') as file:\n",
    "    print(file.read(10))\n",
    "    print(file.tell())   # it is indicated current position of cursor\n",
    "    file.seek(5)\n",
    "    print(file.tell())\n",
    "    print(file.read())"
   ]
  },
  {
   "cell_type": "code",
   "execution_count": 162,
   "metadata": {},
   "outputs": [
    {
     "name": "stdout",
     "output_type": "stream",
     "text": [
      "welcome to housei am adding new line \n",
      " and welcome to the  \n",
      " world and do something\\n\n",
      "i am printing \n",
      " \n",
      "the number of characters in file2 is 0\n"
     ]
    }
   ],
   "source": [
    "with open('test2.txt') as file2:\n",
    "    print(file2.read())\n",
    "    text = file2.read()\n",
    "    print('i am printing \\n {}'.format(text))\n",
    "    print('the number of characters in file2 is {}'.format(len(text)))"
   ]
  },
  {
   "cell_type": "code",
   "execution_count": 165,
   "metadata": {},
   "outputs": [
    {
     "name": "stdout",
     "output_type": "stream",
     "text": [
      "welcome to housei am adding new line \n",
      "\n",
      " and welcome to the  \n",
      "\n",
      " world and do something\\n\n"
     ]
    }
   ],
   "source": [
    "# we have function called readline using to read line by line \n",
    "with open('test2.txt') as file3:\n",
    "    print(file3.readline())\n",
    "    print(file3.readline())\n",
    "    print(file3.readline())"
   ]
  },
  {
   "cell_type": "code",
   "execution_count": 167,
   "metadata": {},
   "outputs": [
    {
     "name": "stdout",
     "output_type": "stream",
     "text": [
      "['welcome to housei am adding new line \\n', ' and welcome to the  \\n', ' world and do something\\\\n']\n",
      "5\n"
     ]
    }
   ],
   "source": [
    "# readlines() method return list of all line in file\n",
    "with open('test2.txt') as file3:\n",
    "    print(file3.readlines())   # it return list of lines\n",
    "    print(file3.fileno())"
   ]
  },
  {
   "cell_type": "code",
   "execution_count": 174,
   "metadata": {},
   "outputs": [
    {
     "name": "stdout",
     "output_type": "stream",
     "text": [
      "b'pavankalyan'\n",
      "pavankalyan\n",
      "no\n",
      "yes\n",
      "b'pavankalyan'\n"
     ]
    }
   ],
   "source": [
    "# and some more methods for files\n",
    "\n",
    "#like isatty()\n",
    "# readline()\n",
    "# readlines()\n",
    "# readable() boolean function\n",
    "# writeable() boolean function\n",
    "# seekable() boolean function\n",
    "\n",
    "\n",
    "# encoding and decoding     string to binary and binary to string\n",
    "name=\"pavankalyan\"\n",
    "bytename=b'pavankalyan'\n",
    "print(bytename)\n",
    "print(name)\n",
    "if name == bytename:\n",
    "    print('yes')\n",
    "else:\n",
    "    print('no')\n",
    "if name.encode('ASCII') == bytename:\n",
    "    print('yes')\n",
    "else:\n",
    "    print('no')\n",
    "print(name.encode('ASCII'))"
   ]
  },
  {
   "cell_type": "code",
   "execution_count": null,
   "metadata": {},
   "outputs": [],
   "source": []
  }
 ],
 "metadata": {
  "kernelspec": {
   "display_name": "Python 3",
   "language": "python",
   "name": "python3"
  },
  "language_info": {
   "codemirror_mode": {
    "name": "ipython",
    "version": 3
   },
   "file_extension": ".py",
   "mimetype": "text/x-python",
   "name": "python",
   "nbconvert_exporter": "python",
   "pygments_lexer": "ipython3",
   "version": "3.7.3"
  }
 },
 "nbformat": 4,
 "nbformat_minor": 2
}
